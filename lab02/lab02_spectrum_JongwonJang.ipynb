{
 "cells": [
  {
   "cell_type": "markdown",
   "id": "2df169d8-4c37-4450-97b5-6cc781a2ae4a",
   "metadata": {},
   "source": [
    "# DEEE725 Speech Signal Processing Lab\n",
    "### 2023 Spring, Kyungpook National University \n",
    "### Instructor: Gil-Jin Jang"
   ]
  },
  {
   "cell_type": "markdown",
   "id": "09645527-0887-405f-9a9a-05da9cb45270",
   "metadata": {},
   "source": [
    "## Lab 02 Draw spectrogram\n",
    "2023/03/24\n",
    "source: \n",
    "\n",
    "> https://hyunlee103.tistory.com/36\n",
    "\n",
    "> https://dacon.io/en/competitions/official/235616/codeshare/1277\n",
    "\n",
    "> https://matplotlib.org/stable/tutorials/colors/colormaps.html"
   ]
  },
  {
   "cell_type": "code",
   "execution_count": null,
   "id": "d2fbc717-5dc6-43a9-b7c3-9f8f2b06506f",
   "metadata": {
    "tags": []
   },
   "outputs": [],
   "source": [
    "# import necessary pacakages\n",
    "import sys\n",
    "import numpy as np\n",
    "import librosa\n",
    "import librosa.display\n",
    "from matplotlib import pyplot as plt\n",
    "\n",
    "#from scipy.io import wavfile\n",
    "from scipy import signal\n",
    "from scipy.fft import fftshift"
   ]
  },
  {
   "cell_type": "code",
   "execution_count": 7,
   "id": "d94df199-6bc7-4a5f-9c4e-50ee25d7aebe",
   "metadata": {
    "tags": []
   },
   "outputs": [],
   "source": [
    "# parameters for signal analysis and drawing\n",
    "#FIG_SIZE = (15,10)\n",
    "Ts = 0.01   # 10 ms shift size\n",
    "Tf = 0.02   # 20 ms frame size\n",
    "#cmap_plot = plt.cm.bone # default colormap for spectrogram, gray\n",
    "cmap_plot = plt.cm.bone_r # default colormap for spectrogram, gray\n",
    "#cmap_plot = plt.cm.plasma \n",
    "#cmap_plot = plt.cm.inferno\n",
    "Fs = 16000\n",
    "\n",
    "#wavfile = 'kdigits0-2.wav'  # 0.6 - 1.1\n",
    "wavfile = 'kdigits0-3.wav'  # 1.0 - 1.5"
   ]
  },
  {
   "cell_type": "markdown",
   "id": "79f3b27f-41ff-4f0f-8781-2c162c98c8cf",
   "metadata": {},
   "source": [
    "### load an example windows wav file"
   ]
  },
  {
   "cell_type": "code",
   "execution_count": 8,
   "id": "cb0ede05-6aca-4f79-9202-80faaa966302",
   "metadata": {
    "tags": []
   },
   "outputs": [
    {
     "name": "stdout",
     "output_type": "stream",
     "text": [
      "[-4.7912598e-03 -3.7231445e-03 -3.3569336e-03 ... -3.0517578e-05\n",
      " -8.8500977e-04  8.5449219e-04] (37952,)\n",
      "Fs = 16000, Ns = 160, Nf = 320\n"
     ]
    }
   ],
   "source": [
    "# load audio file with Librosa\n",
    "x, Fs = librosa.load(wavfile, sr = Fs)\n",
    "print(x,x.shape)\n",
    "\n",
    "Ns = int(Fs*Ts)    # shift number of samples\n",
    "Nf = int(Fs*Tf)    # frame number of samples\n",
    "print('Fs = %d, Ns = %d, Nf = %d' % (Fs, Ns, Nf))"
   ]
  },
  {
   "cell_type": "markdown",
   "id": "cbbe1916-81e9-4942-bd0b-d105a74bf6d1",
   "metadata": {
    "tags": []
   },
   "source": [
    "### Waveform 시각화"
   ]
  },
  {
   "cell_type": "code",
   "execution_count": 12,
   "id": "0f037d4d-fd40-4a0f-ae59-3df91e59a061",
   "metadata": {
    "tags": []
   },
   "outputs": [
    {
     "data": {
      "text/plain": [
       "Text(0.5, 1.0, 'Waveform')"
      ]
     },
     "execution_count": 12,
     "metadata": {},
     "output_type": "execute_result"
    }
   ],
   "source": [
    "\n",
    "#plt.figure(figsize=FIG_SIZE)\n",
    "librosa.display.waveshow(x, sr=Fs)\n",
    "# plt.plot(x) works as well \n",
    "plt.xlabel(\"Time (s)\")\n",
    "plt.ylabel(\"Amplitude\")\n",
    "plt.title(\"Waveform\")"
   ]
  },
  {
   "cell_type": "markdown",
   "id": "4c0ffe4f-ab35-4806-acec-d2980d600ef0",
   "metadata": {},
   "source": [
    "- 음성 부분만 tight하게 잘라낸다"
   ]
  },
  {
   "cell_type": "code",
   "execution_count": 24,
   "id": "c35f579d-7f5e-4931-8b61-676fffde41cf",
   "metadata": {
    "tags": []
   },
   "outputs": [],
   "source": [
    "x, Fs = librosa.load(wavfile, sr = Fs)\n",
    "x = x[int(Fs*1.0):int(Fs*1.5)]\n",
    "\n",
    "#plt.figure(figsize=FIG_SIZE)\n",
    "librosa.display.waveshow(x, sr=Fs)\n",
    "# plt.plot(x) works as well \n",
    "plt.xlabel(\"Time (s)\")\n",
    "plt.ylabel(\"Amplitude\")\n",
    "plt.title(\"Waveform\")\n",
    "plt.savefig(\"waveform.png\")\n",
    "plt.close()"
   ]
  },
  {
   "cell_type": "markdown",
   "id": "2f1ec3e7-286e-4a7a-9959-559d15365730",
   "metadata": {},
   "source": [
    "### draw spectrogram"
   ]
  },
  {
   "cell_type": "code",
   "execution_count": 25,
   "id": "5764004d-1445-4762-9e67-a1cb8744faa6",
   "metadata": {
    "tags": []
   },
   "outputs": [],
   "source": [
    "# draw spectrum by matplotlib\n",
    "plt.figure()\n",
    "[pxx,freq,t,cax] = plt.specgram(x,Fs=Fs,\n",
    "        window=np.hamming(Ns*2),\n",
    "        NFFT=Ns*2,noverlap=80,\n",
    "        scale_by_freq=True,\n",
    "        mode='psd',scale='dB',\n",
    "        cmap=cmap_plot)\n",
    "\n",
    "lab = 'input signal, PSD %.1f+/-%.1f'%(pxx[:].mean(),pxx[:].std())\n",
    "plt.text(len(x)/Fs*0.05,Fs/8,lab)\n",
    "plt.xlabel('time (seconds)')\n",
    "plt.ylabel('frequency (Hz)')\n",
    "plt.colorbar(format=\"%+2.0f dB\")\n",
    "plt.title(\"Spectrogram (dB)\")\n",
    "plt.savefig(\"spectrogram(db).png\")"
   ]
  },
  {
   "cell_type": "code",
   "execution_count": 28,
   "id": "e0a7b0e8-fd5c-4e48-8a1b-ef1b71ae8115",
   "metadata": {
    "tags": []
   },
   "outputs": [],
   "source": [
    "# draw spectrum by librosa\n",
    "# https://dacon.io/en/competitions/official/235616/codeshare/1277\n",
    "\n",
    "# STFT -> spectrogram\n",
    "plt.figure()\n",
    "stft = librosa.stft(x, n_fft=Nf, hop_length=Ns)\n",
    "magnitude = np.abs(stft)\n",
    "log_spectrogram = librosa.amplitude_to_db(magnitude)\n",
    "\n",
    "plt.figure()\n",
    "librosa.display.specshow(log_spectrogram, sr=Fs, hop_length=Ns)\n",
    "plt.xlabel(\"Time\")\n",
    "plt.ylabel(\"Frequency\")\n",
    "plt.colorbar(format=\"%+2.0f dB\")\n",
    "plt.title(\"Spectrogram (dB)\")\n",
    "plt.savefig(\"spectrogram(db)2.png\")\n",
    "plt.close()"
   ]
  },
  {
   "cell_type": "code",
   "execution_count": 29,
   "id": "f7247045-f7af-482a-a5cb-93d2e47396d6",
   "metadata": {
    "tags": []
   },
   "outputs": [],
   "source": [
    "# draw spectrum by librosa, log scale in frequency\n",
    "# https://librosa.org/doc/main/auto_examples/plot_display.html\n",
    "plt.figure()\n",
    "fig, ax = plt.subplots()\n",
    "D_highres = librosa.stft(x, hop_length=Ns, n_fft=Nf)\n",
    "S_db_hr = librosa.amplitude_to_db(np.abs(D_highres), ref=np.max)\n",
    "img = librosa.display.specshow(S_db_hr, hop_length=Ns, x_axis='time', y_axis='log', ax=ax)\n",
    "ax.set(title='Higher time and frequency resolution')\n",
    "fig.colorbar(img, ax=ax, format=\"%+2.f dB\")\n",
    "plt.savefig(\"Higher time and frequency resolution.png\")\n",
    "plt.close()\n"
   ]
  },
  {
   "cell_type": "code",
   "execution_count": 31,
   "id": "c2620c8a-eefa-412a-b2b0-61b0e894937b",
   "metadata": {
    "tags": []
   },
   "outputs": [
    {
     "name": "stdout",
     "output_type": "stream",
     "text": [
      "(8000,)\n"
     ]
    }
   ],
   "source": [
    "# draw spectrum using scipy - not working\n",
    "# https://docs.scipy.org/doc/scipy/reference/generated/scipy.signal.spectrogram.html\n",
    "plt.figure()\n",
    "print(x.shape)\n",
    "f, t, Sxx = signal.spectrogram(x, Fs, return_onesided=False)\n",
    "plt.pcolormesh(t, fftshift(f), fftshift(Sxx, axes=0), shading='gouraud')\n",
    "plt.ylabel('Frequency [Hz]')\n",
    "plt.xlabel('Time [sec]')\n",
    "plt.show()\n",
    "plt.savefig(\"signal_spectrogram.png\")\n",
    "plt.close()"
   ]
  },
  {
   "cell_type": "markdown",
   "id": "f11bc3d0-d556-40d1-b2af-46076a7431b7",
   "metadata": {
    "tags": []
   },
   "source": [
    "## 직접 그려본다\n",
    "\n",
    "1. 20 ms 간격으로 나눈다\n",
    "\n",
    "2. FFT 수행 \n",
    "\n",
    "3. `imshow`로 그린다."
   ]
  },
  {
   "cell_type": "markdown",
   "id": "127f0f32-20a8-4f85-9131-35e839bd7f5b",
   "metadata": {
    "tags": []
   },
   "source": [
    "- 한 frame 그려보기 "
   ]
  },
  {
   "cell_type": "code",
   "execution_count": 32,
   "id": "60e1ff46-b49e-406f-bf74-907e128edd4d",
   "metadata": {
    "tags": []
   },
   "outputs": [],
   "source": [
    "# 0.2~0.22 부분을 추출한다. \n",
    "plt.figure()\n",
    "y = x[int(Fs*0.2):int(Fs*0.22)]"
   ]
  },
  {
   "cell_type": "code",
   "execution_count": 34,
   "id": "bb98f436-d390-44f4-a6c4-2294082ab196",
   "metadata": {
    "tags": []
   },
   "outputs": [],
   "source": [
    "Y = np.abs(np.fft.fft(y))\n",
    "plt.plot(Y)\n",
    "plt.savefig(\"1_Y.png\")\n",
    "plt.close()"
   ]
  },
  {
   "cell_type": "code",
   "execution_count": 35,
   "id": "19a7c9d0-cece-4884-b26b-5a96af08fa71",
   "metadata": {
    "tags": []
   },
   "outputs": [],
   "source": [
    "# 0~PI+1 까지의 절대값\n",
    "Y = np.abs(np.fft.fft(y))\n",
    "Y = Y[:(len(Y)//2+1)]\n",
    "plt.figure()\n",
    "plt.plot(Y)\n",
    "plt.savefig(\"2_Y.png\")\n",
    "plt.close()"
   ]
  },
  {
   "cell_type": "code",
   "execution_count": 36,
   "id": "657454c3-bb30-44ac-bad6-96ba15a5f3d4",
   "metadata": {
    "tags": []
   },
   "outputs": [],
   "source": [
    "# 0~PI+1 까지의 절대값\n",
    "# log scale 로\n",
    "Y = np.log(np.abs(np.fft.fft(y)))\n",
    "Y = Y[:(len(Y)//2+1)]\n",
    "plt.figure()\n",
    "plt.plot(Y)\n",
    "plt.savefig(\"3_Y.png\")\n",
    "plt.close()"
   ]
  },
  {
   "cell_type": "code",
   "execution_count": 37,
   "id": "2c97a026-114e-45b8-9039-967d5ab60a71",
   "metadata": {
    "tags": []
   },
   "outputs": [],
   "source": [
    "# 0~PI+1 까지의 절대값\n",
    "# log scale 로\n",
    "plt.figure()\n",
    "Y = np.log(np.abs(np.fft.fft(y)))\n",
    "Y = Y[:(len(Y)//2+1)]\n",
    "xticks=np.arange(len(Y))/len(Y)*Fs/2\n",
    "plt.plot(xticks, Y)\n",
    "plt.xlabel('frequency (Hz)')\n",
    "plt.ylabel('log magnitude')\n",
    "plt.savefig(\"4_log_manitude.png\")\n",
    "plt.close()"
   ]
  },
  {
   "cell_type": "markdown",
   "id": "f7f77c00-6ed7-4ef6-8baf-7020f9b60d34",
   "metadata": {},
   "source": [
    "### Short-time Fourier transform"
   ]
  },
  {
   "cell_type": "code",
   "execution_count": 38,
   "id": "7ce147e7-e648-4415-b373-4227c91781cf",
   "metadata": {
    "tags": []
   },
   "outputs": [],
   "source": [
    "# Short-time Fourier transform\n",
    "# 20ms 간격으로 나눈다\n",
    "plt.figure()\n",
    "T = len(x)   # number of samples\n",
    "num_frames = T//Nf# 마지막 채워지지 않은 프레임은 버린다. 구현에 따라 zero-padding해서 사용 가능\n",
    "hNo = Nf//2+1\n",
    "X = np.zeros((hNo,num_frames))\n",
    "for i in range(num_frames):\n",
    "    y = np.fft.fft(x[(i*Nf):((i+1)*Nf)])\n",
    "    y = y[:hNo]\n",
    "    X[:,i] = np.abs(y)"
   ]
  },
  {
   "cell_type": "code",
   "execution_count": 39,
   "id": "9010c7e0-40cf-4096-82c7-d34782a534a6",
   "metadata": {
    "tags": []
   },
   "outputs": [],
   "source": [
    "plt.imshow(X, cmap=cmap_plot)\n",
    "plt.savefig(\"5_stft.png\")\n",
    "plt.close()"
   ]
  },
  {
   "cell_type": "code",
   "execution_count": 40,
   "id": "a2ace1d5-9d79-4e98-8107-afabfc1660d0",
   "metadata": {
    "tags": []
   },
   "outputs": [],
   "source": [
    "plt.figure()\n",
    "plt.imshow(X, cmap=cmap_plot, origin='lower')\n",
    "plt.savefig(\"6_lower.png\")\n",
    "plt.close()"
   ]
  },
  {
   "cell_type": "code",
   "execution_count": 41,
   "id": "33b3d6c8-d58a-475a-818e-4e0311309976",
   "metadata": {
    "tags": []
   },
   "outputs": [],
   "source": [
    "plt.figure()\n",
    "specgram_axis = [0,float(len(x))/float(Fs),0,float(Fs)/2]\n",
    "plt.imshow(X, cmap=cmap_plot, origin='lower', aspect='auto', extent=specgram_axis)\n",
    "plt.xlabel('time (seconds)')\n",
    "plt.ylabel('frequency (Hz)')\n",
    "plt.savefig(\"7_time_axis_stft.png\")\n",
    "plt.close()"
   ]
  },
  {
   "cell_type": "code",
   "execution_count": 42,
   "id": "f8e0b11b-70b4-453a-a631-23f4df66e346",
   "metadata": {
    "tags": []
   },
   "outputs": [
    {
     "name": "stdout",
     "output_type": "stream",
     "text": [
      "13.12683388401886 0.7050746354016717\n"
     ]
    }
   ],
   "source": [
    "plt.figure()\n",
    "# Short-time Fourier transform\n",
    "# 20ms 간격으로 나눈다\n",
    "T = len(x)   # number of samples\n",
    "num_frames = T//Nf# 마지막 채워지지 않은 프레임은 버린다. 구현에 따라 zero-padding해서 사용 가능\n",
    "hNo = Nf//2+1\n",
    "X = np.zeros((hNo,num_frames))\n",
    "for i in range(num_frames):\n",
    "    y = np.fft.fft(x[(i*Nf):((i+1)*Nf)])\n",
    "    y = y[:hNo]\n",
    "    X[:,i] = np.abs(y)\n",
    "\n",
    "# 상위 80% 정도만 scale 한다. imshow의 vmin vmax 이용 \n",
    "vmax = np.max(X[:])\n",
    "vmin = np.percentile(X[:], 91)\n",
    "print(vmax, vmin)\n",
    "\n",
    "specgram_axis = [0,float(len(x))/float(Fs),0,float(Fs)/2]\n",
    "plt.imshow(X, cmap=cmap_plot, origin='lower', aspect='auto', extent=specgram_axis, vmax=vmax, vmin=vmin)\n",
    "plt.xlabel('time (seconds)')\n",
    "plt.ylabel('frequency (Hz)')\n",
    "plt.savefig(\"8_20ms_stft.png\")\n",
    "plt.close()"
   ]
  },
  {
   "cell_type": "markdown",
   "id": "c991d8c4-83ce-4af9-8d7e-f0ba5a04eb9a",
   "metadata": {
    "tags": []
   },
   "source": [
    "### Hamming windows"
   ]
  },
  {
   "cell_type": "code",
   "execution_count": 43,
   "id": "5c14a7e4-4d7a-45ed-9f5d-2e4230955771",
   "metadata": {
    "tags": []
   },
   "outputs": [],
   "source": [
    "plt.figure()\n",
    "T = 1024\n",
    "sinusoid = np.sin(np.arange(T)/T*20*np.pi)\n",
    "plt.plot(sinusoid)\n",
    "plt.savefig(\"9_hanmming.png\")\n",
    "plt.close()"
   ]
  },
  {
   "cell_type": "code",
   "execution_count": null,
   "id": "6f921a09-f929-4426-a2cd-7fe4dd8cd1bb",
   "metadata": {},
   "outputs": [],
   "source": []
  },
  {
   "cell_type": "code",
   "execution_count": 44,
   "id": "fd3b6394-189a-4b7d-8c3b-6d605af26f82",
   "metadata": {
    "tags": []
   },
   "outputs": [],
   "source": [
    "plt.figure()\n",
    "# 0~PI+1 까지의 절대값\n",
    "# log scale 로\n",
    "Y = np.log(np.abs(np.fft.fft(sinusoid)))\n",
    "Y = Y[:(len(Y)//2+1)]\n",
    "xticks=np.arange(len(Y))/len(Y)*Fs/2\n",
    "plt.plot(xticks, Y)\n",
    "plt.xlabel('frequency (Hz)')\n",
    "plt.ylabel('log magnitude')\n",
    "plt.savefig(\"10_log_magnitude.png\")\n",
    "plt.close()"
   ]
  },
  {
   "cell_type": "code",
   "execution_count": 45,
   "id": "deaa335b-8210-46dd-ae86-9e0486813593",
   "metadata": {
    "tags": []
   },
   "outputs": [],
   "source": [
    "plt.figure()\n",
    "win = librosa.filters.get_window('hamming', T, fftbins=True)\n",
    "plt.plot(win)\n",
    "plt.savefig(\"11_window.png\")\n",
    "plt.close()"
   ]
  },
  {
   "cell_type": "code",
   "execution_count": 46,
   "id": "d50d535f-bb6f-42f5-8dda-5758f1ddb802",
   "metadata": {
    "tags": []
   },
   "outputs": [],
   "source": [
    "plt.figure()\n",
    "# 0~PI+1 까지의 절대값\n",
    "# log scale 로\n",
    "Y = np.log(np.abs(np.fft.fft(win*sinusoid)))\n",
    "Y = Y[:(len(Y)//2+1)]\n",
    "xticks=np.arange(len(Y))/len(Y)*Fs/2\n",
    "plt.plot(xticks, Y)\n",
    "plt.xlabel('frequency (Hz)')\n",
    "plt.ylabel('log magnitude')\n",
    "plt.savefig(\"12_log_magnitude.png\")\n",
    "plt.close()"
   ]
  },
  {
   "cell_type": "markdown",
   "id": "7b53ac5a-8a0f-49f7-a0d8-19818099725c",
   "metadata": {},
   "source": [
    "### STFT에 hamming window 적용 "
   ]
  },
  {
   "cell_type": "markdown",
   "id": "400ae798-8687-4552-a64c-bff4fd76990a",
   "metadata": {
    "tags": []
   },
   "source": [
    "- 20 ms frame size, 10 ms shift size 적용, rectangular window"
   ]
  },
  {
   "cell_type": "code",
   "execution_count": 47,
   "id": "bec10abe-22f7-4329-8e41-0026b3b9812c",
   "metadata": {
    "tags": []
   },
   "outputs": [
    {
     "name": "stdout",
     "output_type": "stream",
     "text": [
      "13.767264121802409 0.6898897531907506\n"
     ]
    }
   ],
   "source": [
    "plt.figure()\n",
    "# Short-time Fourier transform\n",
    "# 10ms 간격, 20ms 분석 \n",
    "T = len(x)   # number of samples\n",
    "#num_frames = T//Nf# 마지막 채워지지 않은 프레임은 버린다. 구현에 따라 zero-padding해서 사용 가능\n",
    "num_frames = (T-Nf)//Ns + 1 \n",
    "hNo = Nf//2+1\n",
    "X = np.zeros((hNo,num_frames))\n",
    "win = librosa.filters.get_window('hamming', Nf, fftbins=True)\n",
    "for i in range(num_frames):\n",
    "    y = x[(i*Ns):(i*Ns+Nf)]\n",
    "    y = np.fft.fft(y)\n",
    "    y = y[:hNo]\n",
    "    X[:,i] = np.abs(y)\n",
    "\n",
    "# 상위 80% 정도만 scale 한다. imshow의 vmin vmax 이용 \n",
    "vmax = np.max(X[:])\n",
    "vmin = np.percentile(X[:], 91)\n",
    "print(vmax, vmin)\n",
    "\n",
    "specgram_axis = [0,float(len(x))/float(Fs),0,float(Fs)/2]\n",
    "plt.imshow(X, cmap=cmap_plot, origin='lower', aspect='auto', extent=specgram_axis, vmax=vmax, vmin=vmin)\n",
    "plt.xlabel('time (seconds)')\n",
    "plt.ylabel('frequency (Hz)')\n",
    "plt.savefig(\"13_80percent_spectogram.png\")\n",
    "plt.close()"
   ]
  },
  {
   "cell_type": "markdown",
   "id": "9a67798c-8c89-4611-8ee8-1932b572e78c",
   "metadata": {},
   "source": [
    "- 20 ms frame size, 10 ms shift size 적용, hamming window"
   ]
  },
  {
   "cell_type": "code",
   "execution_count": 48,
   "id": "db9f9e23-d12f-4d7f-934e-f98543af8c9e",
   "metadata": {
    "tags": []
   },
   "outputs": [],
   "source": [
    "plt.figure()\n",
    "win = librosa.filters.get_window('hamming', Nf, fftbins=True)\n",
    "plt.plot(win)\n",
    "plt.savefig(\"14_librosa_hamming.png\")\n",
    "plt.close()"
   ]
  },
  {
   "cell_type": "code",
   "execution_count": 50,
   "id": "851705fb-4910-4f3d-a8a2-e3b2ab26d1f6",
   "metadata": {
    "tags": []
   },
   "outputs": [
    {
     "name": "stdout",
     "output_type": "stream",
     "text": [
      "7.731646815139541 0.08643033085681953\n",
      "7.731646815139541 0.37138737706057884\n"
     ]
    }
   ],
   "source": [
    "# Short-time Fourier transform\n",
    "# 10ms 간격, 20ms 분석 \n",
    "T = len(x)   # number of samples\n",
    "#num_frames = T//Nf# 마지막 채워지지 않은 프레임은 버린다. 구현에 따라 zero-padding해서 사용 가능\n",
    "num_frames = (T-Nf)//Ns + 1 \n",
    "hNo = Nf//2+1\n",
    "X = np.zeros((hNo,num_frames))\n",
    "win = librosa.filters.get_window('hamming', Nf, fftbins=True)\n",
    "for i in range(num_frames):\n",
    "    y = x[(i*Ns):(i*Ns+Nf)]\n",
    "    # hamming window\n",
    "    y = win*y\n",
    "    y = np.fft.fft(y)\n",
    "    y = y[:hNo]\n",
    "    X[:,i] = np.abs(y)\n",
    "\n",
    "specgram_axis = [0,float(len(x))/float(Fs),0,float(Fs)/2]\n",
    "\n",
    "# 상위 80%-90% 정도만 scale 한다. 출력 보면서 결정\n",
    "vmax = np.max(X[:])\n",
    "vmin = np.percentile(X[:], 80)\n",
    "print(vmax, vmin)\n",
    "plt.figure()\n",
    "plt.imshow(X, cmap=cmap_plot, origin='lower', aspect='auto', extent=specgram_axis, vmax=vmax, vmin=vmin)\n",
    "plt.xlabel('time (seconds)')\n",
    "plt.ylabel('frequency (Hz)')\n",
    "plt.savefig(\"16_80per_scale.png\")\n",
    "plt.close()\n",
    "\n",
    "vmax = np.max(X[:])\n",
    "vmin = np.percentile(X[:], 90)\n",
    "print(vmax, vmin)\n",
    "plt.figure()\n",
    "plt.imshow(X, cmap=cmap_plot, origin='lower', aspect='auto', extent=specgram_axis, vmax=vmax, vmin=vmin)\n",
    "plt.xlabel('time (seconds)')\n",
    "plt.ylabel('frequency (Hz)')\n",
    "plt.savefig(\"17_90per_scale.png\")\n",
    "plt.close()"
   ]
  },
  {
   "cell_type": "markdown",
   "id": "3428c672-4f94-4b56-89d4-9e99e17de8fa",
   "metadata": {
    "tags": []
   },
   "source": [
    "## Resampling: Decimation, Upsampling, lowpass filter design"
   ]
  },
  {
   "cell_type": "code",
   "execution_count": 51,
   "id": "443832a0-7ee0-446c-a973-d125623d669a",
   "metadata": {
    "tags": []
   },
   "outputs": [
    {
     "data": {
      "text/plain": [
       "[<matplotlib.lines.Line2D at 0x7f5239b47ac0>]"
      ]
     },
     "execution_count": 51,
     "metadata": {},
     "output_type": "execute_result"
    }
   ],
   "source": [
    "# scipy.signal.firwin(numtaps, cutoff, width=None, window='hamming', pass_zero=True, scale=True, nyq=None, fs=None)[source]\n",
    "# FIR filter design using the window method.\n",
    "\n",
    "\n",
    "\n",
    "\n",
    "a = signal.firwin(51, 0.5, window='hamming')\n",
    "plt.plot(a)"
   ]
  },
  {
   "cell_type": "code",
   "execution_count": 19,
   "id": "ca6752f3",
   "metadata": {},
   "outputs": [],
   "source": [
    "import numpy as np\n",
    "import scipy\n",
    "import librosa\n",
    "import soundfile\n",
    "import os\n",
    "\n",
    "# change frequency\n",
    "# fb : base frequency\n",
    "# fc : change frequency\n",
    "# signal : original signal(fb signal)\n",
    "def change_freq(signal, fb, fc) :\n",
    "    # calculate new signal length\n",
    "    lenb = len(signal)\n",
    "    lenc = int((lenb-1)*fc/fb) +1\n",
    "    new_signal = np.zeros(lenc)\n",
    "    for i in range(lenc) :\n",
    "        # new_signal is generated linearly from 'num_sample' of signal.\n",
    "        if i/fc*fb >= lenb-1 :\n",
    "            new_signal[i] = signal[-1]\n",
    "            break\n",
    "        num_sample = int(i/fc*fb)\n",
    "        low_sample = signal[num_sample]\n",
    "        high_sample = signal[num_sample+1]\n",
    "        new_signal[i] = (((i/fc)-(num_sample/fb))*high_sample + (((num_sample+1)/fb)-(i/fc))*low_sample)*fb\n",
    "\n",
    "    return new_signal\n",
    "\n",
    "# base wav frequency\n",
    "filename = 'kdigits0-3'\n",
    "fb = 16000\n",
    "upsamples = [32000, 48000, 44100]\n",
    "downsamples = [8000, 11025]\n",
    "data, fb = librosa.load(f'{filename}.wav', sr = fb)\n",
    "\n",
    "save_folder = 'hw2_result'\n",
    "os.system('mkdir -p %s'%save_folder)\n",
    "soundfile.write(os.path.join(save_folder,f'{filename}_16k.wav'), data, fb)\n",
    "\n",
    "# upsampling\n",
    "# change frequency -> low pass filter\n",
    "for freq in upsamples :\n",
    "    y = change_freq(data, fb, freq)\n",
    "    low_filter = scipy.signal.firwin(51, fb//2, fs=freq, pass_zero='lowpass')\n",
    "    y_f = scipy.signal.lfilter(low_filter, 1.0, y)\n",
    "    soundfile.write(os.path.join(save_folder,f'{filename}_{freq//1000}k.wav'), y_f, freq)\n",
    "\n",
    "# downsampling\n",
    "# low pass filter -> change frequency\n",
    "for freq in downsamples :\n",
    "    low_filter = scipy.signal.firwin(51, freq//2, fs=fb, pass_zero='lowpass')\n",
    "    y_f = scipy.signal.lfilter(low_filter, 1.0, data)\n",
    "    y = change_freq(y_f, fb, freq)\n",
    "    soundfile.write(os.path.join(save_folder,f'{filename}_{freq//1000}k.wav'), y, freq)\n"
   ]
  },
  {
   "cell_type": "markdown",
   "id": "2f2cc10f-ae74-4d39-bcdb-5863f58cb805",
   "metadata": {},
   "source": [
    "## End of Lab 02"
   ]
  }
 ],
 "metadata": {
  "kernelspec": {
   "display_name": "base",
   "language": "python",
   "name": "python3"
  },
  "language_info": {
   "codemirror_mode": {
    "name": "ipython",
    "version": 3
   },
   "file_extension": ".py",
   "mimetype": "text/x-python",
   "name": "python",
   "nbconvert_exporter": "python",
   "pygments_lexer": "ipython3",
   "version": "3.8.12"
  },
  "vscode": {
   "interpreter": {
    "hash": "d4d1e4263499bec80672ea0156c357c1ee493ec2b1c70f0acce89fc37c4a6abe"
   }
  }
 },
 "nbformat": 4,
 "nbformat_minor": 5
}
